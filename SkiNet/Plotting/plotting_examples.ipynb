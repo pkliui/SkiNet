{
 "cells": [
  {
   "cell_type": "code",
   "execution_count": null,
   "id": "b734c165-2652-4fcd-a03b-ce6684dcc7b6",
   "metadata": {},
   "outputs": [],
   "source": [
    "#remove_cell\n",
    "import sys\n",
    "\n",
    "#datapath = '/Users/Pavel/Documents/'\n",
    "sourcepath = '/Users/Pavel/Documents/repos/SkiNet/'\n",
    "\n",
    "sys.path.insert(0,sourcepath)\n",
    "#sys.path.insert(0,datapath)\n",
    "\n",
    "#automatically track changes in the source code\n",
    "%load_ext autoreload\n",
    "%autoreload 2\n"
   ]
  },
  {
   "cell_type": "markdown",
   "id": "2facd88d",
   "metadata": {},
   "source": [
    "# Plotting masks over images"
   ]
  },
  {
   "cell_type": "code",
   "execution_count": null,
   "id": "886f477e-4dc1-49d4-acf4-d4cd1f239414",
   "metadata": {},
   "outputs": [],
   "source": [
    "from SkiNet.Plotting.get_data.get_images_and_masks import read_images_from_directory\n",
    "from SkiNet.Plotting.plot_segmented_images import plot_masks_over_images\n",
    "\n",
    "\n",
    "directory_path = '/workplace/SkiNet/PH2_Dataset_images'\n",
    "search_pattern_images = '*_Dermoscopic_Image/*.bmp'\n",
    "search_pattern_masks =  '*_lesion/*.bmp'\n",
    "\n",
    "\n",
    "# if images and masks are not supplied yet, read them from the directory\n",
    "images = read_images_from_directory(directory_path, search_pattern_images, max_num_images_to_return=10)\n",
    "masks = read_images_from_directory(directory_path,search_pattern_masks, max_num_images_to_return=10)\n",
    "\n",
    "# plot masks over images\n",
    "plot_masks_over_images(images, masks, alpha=0.4, colors=\"white\", max_cols=4)"
   ]
  },
  {
   "cell_type": "markdown",
   "id": "d6db6fdd-fd3e-400d-85fb-6ad8747c5081",
   "metadata": {},
   "source": [
    "# Plot images and masks side-by-side\n"
   ]
  },
  {
   "cell_type": "code",
   "execution_count": null,
   "id": "11b6553a",
   "metadata": {},
   "outputs": [],
   "source": [
    "from pathlib import Path\n",
    "from SkiNet.Plotting.plot_images_masks_side_by_side import plot_images_masks_side_by_side\n",
    "\n",
    "dataset_name = \"PH2Dataset\"\n",
    "num_images_to_plot = 3\n",
    "path_to_data = Path='/workplace/SkiNet/PH22'\n",
    "plot_images_masks_side_by_side(dataset_name=dataset_name, num_images_to_plot=num_images_to_plot, random_sample = True, path_to_data=path_to_data)"
   ]
  },
  {
   "cell_type": "code",
   "execution_count": null,
   "id": "d1243752",
   "metadata": {},
   "outputs": [],
   "source": []
  }
 ],
 "metadata": {
  "kernelspec": {
   "display_name": "Python 3 (ipykernel)",
   "language": "python",
   "name": "python3"
  },
  "language_info": {
   "codemirror_mode": {
    "name": "ipython",
    "version": 3
   },
   "file_extension": ".py",
   "mimetype": "text/x-python",
   "name": "python",
   "nbconvert_exporter": "python",
   "pygments_lexer": "ipython3",
   "version": "3.11.11"
  }
 },
 "nbformat": 4,
 "nbformat_minor": 5
}
